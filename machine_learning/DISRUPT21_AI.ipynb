{
  "nbformat": 4,
  "nbformat_minor": 0,
  "metadata": {
    "colab": {
      "name": "DISRUPT21-AI.ipynb",
      "provenance": [],
      "collapsed_sections": []
    },
    "kernelspec": {
      "name": "python3",
      "display_name": "Python 3"
    }
  },
  "cells": [
    {
      "cell_type": "code",
      "metadata": {
        "id": "sT06XBpJWuDs"
      },
      "source": [
        "import pandas as pd\n",
        "import numpy as np\n"
      ],
      "execution_count": null,
      "outputs": []
    },
    {
      "cell_type": "code",
      "metadata": {
        "id": "diBtW6jsWxgi"
      },
      "source": [
        "data = pd.read_csv('./Times.csv').fillna(0)\n",
        "\n",
        "WL = [0] * len(data)\n",
        "ratio = [0] * len(data)\n",
        "\n",
        "data['Ratio'] = ratio\n",
        "data['Result'] = WL\n",
        "\n",
        "dic = data.to_dict('index')\n",
        "\n",
        "for i in dic:\n",
        "  dic[i]['Ratio'] = dic[i]['Win'] - dic[i]['Loss']\n",
        "  if dic[i]['Ratio'] > 0:\n",
        "    dic[i]['Result'] = '1'\n",
        "  elif dic[i]['Ratio'] < 0:\n",
        "    dic[i]['Result'] = '0'\n",
        "  else:\n",
        "    dic[i]['Result'] = '0.5'\n",
        "  \n",
        "data = pd.DataFrame.from_dict(dic, orient='index', columns=['yearID', 'teamName', 'Win', 'Loss', 'Result'])"
      ],
      "execution_count": null,
      "outputs": []
    },
    {
      "cell_type": "code",
      "metadata": {
        "id": "UMqFApn1Wx55",
        "outputId": "087c34c2-0840-4a78-ebba-cd787d4991de",
        "colab": {
          "base_uri": "https://localhost:8080/",
          "height": 415
        }
      },
      "source": [
        "data.head(100).sort_values(by=['teamName', 'yearID'])\n"
      ],
      "execution_count": null,
      "outputs": [
        {
          "output_type": "execute_result",
          "data": {
            "text/html": [
              "<div>\n",
              "<style scoped>\n",
              "    .dataframe tbody tr th:only-of-type {\n",
              "        vertical-align: middle;\n",
              "    }\n",
              "\n",
              "    .dataframe tbody tr th {\n",
              "        vertical-align: top;\n",
              "    }\n",
              "\n",
              "    .dataframe thead th {\n",
              "        text-align: right;\n",
              "    }\n",
              "</style>\n",
              "<table border=\"1\" class=\"dataframe\">\n",
              "  <thead>\n",
              "    <tr style=\"text-align: right;\">\n",
              "      <th></th>\n",
              "      <th>yearID</th>\n",
              "      <th>teamName</th>\n",
              "      <th>Win</th>\n",
              "      <th>Loss</th>\n",
              "      <th>Result</th>\n",
              "    </tr>\n",
              "  </thead>\n",
              "  <tbody>\n",
              "    <tr>\n",
              "      <th>64</th>\n",
              "      <td>1954</td>\n",
              "      <td>Baltimore Orioles</td>\n",
              "      <td>54</td>\n",
              "      <td>100</td>\n",
              "      <td>0</td>\n",
              "    </tr>\n",
              "    <tr>\n",
              "      <th>80</th>\n",
              "      <td>1955</td>\n",
              "      <td>Baltimore Orioles</td>\n",
              "      <td>57</td>\n",
              "      <td>97</td>\n",
              "      <td>0</td>\n",
              "    </tr>\n",
              "    <tr>\n",
              "      <th>96</th>\n",
              "      <td>1956</td>\n",
              "      <td>Baltimore Orioles</td>\n",
              "      <td>69</td>\n",
              "      <td>85</td>\n",
              "      <td>0</td>\n",
              "    </tr>\n",
              "    <tr>\n",
              "      <th>2</th>\n",
              "      <td>1950</td>\n",
              "      <td>Boston Braves</td>\n",
              "      <td>83</td>\n",
              "      <td>71</td>\n",
              "      <td>1</td>\n",
              "    </tr>\n",
              "    <tr>\n",
              "      <th>18</th>\n",
              "      <td>1951</td>\n",
              "      <td>Boston Braves</td>\n",
              "      <td>76</td>\n",
              "      <td>78</td>\n",
              "      <td>0</td>\n",
              "    </tr>\n",
              "    <tr>\n",
              "      <th>...</th>\n",
              "      <td>...</td>\n",
              "      <td>...</td>\n",
              "      <td>...</td>\n",
              "      <td>...</td>\n",
              "      <td>...</td>\n",
              "    </tr>\n",
              "    <tr>\n",
              "      <th>31</th>\n",
              "      <td>1951</td>\n",
              "      <td>Washington Senators</td>\n",
              "      <td>62</td>\n",
              "      <td>92</td>\n",
              "      <td>0</td>\n",
              "    </tr>\n",
              "    <tr>\n",
              "      <th>47</th>\n",
              "      <td>1952</td>\n",
              "      <td>Washington Senators</td>\n",
              "      <td>78</td>\n",
              "      <td>76</td>\n",
              "      <td>1</td>\n",
              "    </tr>\n",
              "    <tr>\n",
              "      <th>63</th>\n",
              "      <td>1953</td>\n",
              "      <td>Washington Senators</td>\n",
              "      <td>76</td>\n",
              "      <td>76</td>\n",
              "      <td>0.5</td>\n",
              "    </tr>\n",
              "    <tr>\n",
              "      <th>79</th>\n",
              "      <td>1954</td>\n",
              "      <td>Washington Senators</td>\n",
              "      <td>66</td>\n",
              "      <td>88</td>\n",
              "      <td>0</td>\n",
              "    </tr>\n",
              "    <tr>\n",
              "      <th>95</th>\n",
              "      <td>1955</td>\n",
              "      <td>Washington Senators</td>\n",
              "      <td>53</td>\n",
              "      <td>101</td>\n",
              "      <td>0</td>\n",
              "    </tr>\n",
              "  </tbody>\n",
              "</table>\n",
              "<p>100 rows × 5 columns</p>\n",
              "</div>"
            ],
            "text/plain": [
              "    yearID             teamName  Win  Loss Result\n",
              "64    1954    Baltimore Orioles   54   100      0\n",
              "80    1955    Baltimore Orioles   57    97      0\n",
              "96    1956    Baltimore Orioles   69    85      0\n",
              "2     1950        Boston Braves   83    71      1\n",
              "18    1951        Boston Braves   76    78      0\n",
              "..     ...                  ...  ...   ...    ...\n",
              "31    1951  Washington Senators   62    92      0\n",
              "47    1952  Washington Senators   78    76      1\n",
              "63    1953  Washington Senators   76    76    0.5\n",
              "79    1954  Washington Senators   66    88      0\n",
              "95    1955  Washington Senators   53   101      0\n",
              "\n",
              "[100 rows x 5 columns]"
            ]
          },
          "metadata": {
            "tags": []
          },
          "execution_count": 208
        }
      ]
    },
    {
      "cell_type": "code",
      "metadata": {
        "id": "BXWS2dDUXRL-",
        "outputId": "b7c097c5-de0d-41d2-8660-5a14bf27e381",
        "colab": {
          "base_uri": "https://localhost:8080/"
        }
      },
      "source": [
        "data['Result'].value_counts()"
      ],
      "execution_count": null,
      "outputs": [
        {
          "output_type": "execute_result",
          "data": {
            "text/plain": [
              "1      579\n",
              "0      562\n",
              "0.5     31\n",
              "Name: Result, dtype: int64"
            ]
          },
          "metadata": {
            "tags": []
          },
          "execution_count": 209
        }
      ]
    },
    {
      "cell_type": "code",
      "metadata": {
        "id": "725GGmhF1ime"
      },
      "source": [
        "from sklearn.model_selection import train_test_split\n",
        "from sklearn.linear_model import LogisticRegression\n",
        "\n",
        "x = data.drop(columns= 'teamName')\n",
        "y = data['Result']\n",
        "\n",
        "x_train, x_test, y_train, y_test = train_test_split(x, y, \n",
        "                                                    test_size = 0.5,\n",
        "                                                    random_state = 42)\n",
        "\n",
        "model = LogisticRegression(max_iter=1200)\n",
        "model.fit(x_train, y_train)\n",
        "\n",
        "y_pred = model.predict(x_test)"
      ],
      "execution_count": null,
      "outputs": []
    },
    {
      "cell_type": "code",
      "metadata": {
        "id": "iiQKWZ2b5EYz",
        "outputId": "69f920ff-ff15-4960-e250-67c40cb9594d",
        "colab": {
          "base_uri": "https://localhost:8080/"
        }
      },
      "source": [
        "y_pred"
      ],
      "execution_count": null,
      "outputs": [
        {
          "output_type": "execute_result",
          "data": {
            "text/plain": [
              "array(['0', '0', '1', '1', '1', '1', '1', '0', '0', '1', '1', '1', '1',\n",
              "       '1', '0', '0', '0', '1', '1', '0', '1', '0', '1', '1', '1', '1',\n",
              "       '0', '0', '0', '0', '1', '0', '1', '1', '0', '1', '1', '1', '0.5',\n",
              "       '1', '0', '0', '0', '1', '1', '1', '0', '1', '0', '0', '1', '0',\n",
              "       '1', '1', '1', '0', '0', '1', '1', '1', '0', '0', '0', '1', '1',\n",
              "       '1', '1', '1', '1', '1', '1', '1', '1', '1', '0', '1', '1', '1',\n",
              "       '1', '1', '0', '1', '0', '0', '1', '1', '1', '0', '0', '0', '1',\n",
              "       '0', '0', '0', '1', '1', '1', '0', '1', '1', '1', '0', '0', '1',\n",
              "       '1', '0', '1', '0', '1', '1', '1', '1', '0', '1', '1', '0', '0',\n",
              "       '1', '1', '0', '0', '1', '1', '1', '1', '0', '1', '0', '0', '0',\n",
              "       '0', '1', '1', '1', '0', '1', '0', '1', '1', '0', '1', '0', '1',\n",
              "       '0', '1', '0', '0', '0', '1', '1', '0', '0', '1', '1', '1', '1',\n",
              "       '0', '0', '0', '1', '0', '0', '0', '0.5', '0', '1', '1', '1', '1',\n",
              "       '1', '1', '1', '1', '1', '1', '1', '0', '0', '1', '0', '1', '0',\n",
              "       '0', '1', '0', '0.5', '0', '0', '1', '1', '0', '1', '0', '1', '1',\n",
              "       '1', '1', '1', '0', '0', '1', '0', '1', '0.5', '1', '0', '0', '0',\n",
              "       '0', '0', '1', '1', '1', '0', '0.5', '1', '0', '1', '0.5', '0',\n",
              "       '0', '1', '1', '1', '1', '1', '1', '1', '0', '1', '1', '0', '1',\n",
              "       '0', '1', '1', '1', '0', '0', '1', '0', '1', '1', '0', '0.5', '0',\n",
              "       '0', '0', '0.5', '0', '0', '1', '0', '0', '1', '0', '0', '1', '0',\n",
              "       '1', '0', '0', '0', '0', '0', '1', '0', '0', '0', '1', '1', '1',\n",
              "       '0', '1', '0.5', '0', '0', '0', '0', '1', '1', '1', '1', '1', '1',\n",
              "       '1', '1', '0', '1', '0', '0', '0', '0', '1', '1', '0', '1', '1',\n",
              "       '1', '1', '0', '0', '0', '1', '0', '1', '0', '0', '1', '1', '0',\n",
              "       '0', '0', '0', '0', '0', '0', '0', '0', '1', '1', '0', '0', '1',\n",
              "       '0', '1', '0', '1', '1', '0', '1', '0', '0', '1', '0', '0', '0',\n",
              "       '1', '1', '0', '1', '1', '0', '1', '1', '0', '0', '1', '0', '0',\n",
              "       '0', '1', '1', '1', '0', '0', '1', '0', '1', '0', '0', '0', '0.5',\n",
              "       '0', '0', '0', '1', '0', '1', '1', '0', '0', '1', '1', '0', '1',\n",
              "       '0', '0', '0', '1', '0', '1', '1', '0', '1', '0', '1', '1', '1',\n",
              "       '1', '0', '1', '0', '0', '0', '0', '0', '0', '0', '0', '0', '0',\n",
              "       '0', '0', '1', '1', '1', '0', '1', '0', '1', '0', '1', '1', '0',\n",
              "       '0', '0', '0', '0.5', '0', '0', '1', '0', '1', '1', '1', '1', '0',\n",
              "       '0', '0', '0', '0', '1', '0', '1', '1', '0', '0', '0', '1', '0',\n",
              "       '1', '0', '0', '0', '1', '1', '1', '0', '1', '1', '0', '0', '1',\n",
              "       '0', '0', '0', '1', '1', '0', '1', '0', '0', '0', '1', '1', '0',\n",
              "       '1', '1', '1', '0', '0', '0.5', '1', '0', '1', '0', '1', '1', '1',\n",
              "       '0', '0', '0.5', '1', '0', '1', '0.5', '0', '1', '1', '1', '0',\n",
              "       '0', '0', '1', '0', '0', '1', '1', '0', '0', '1', '1', '1', '0',\n",
              "       '0', '1', '1', '1', '1', '1', '0', '0', '1', '1', '0', '0', '0',\n",
              "       '0', '1', '1', '1', '1', '1', '1', '0.5', '1', '0', '1', '1', '0',\n",
              "       '0', '0', '0', '1', '0', '0', '1', '1', '1', '1', '0.5', '1', '0',\n",
              "       '1', '1', '0', '0', '0', '1', '1', '0', '1', '1', '0', '1', '1',\n",
              "       '1', '0', '0', '1', '1', '1', '0', '0', '0', '1', '0', '0', '1',\n",
              "       '1', '1', '0', '0', '1', '1', '1', '0', '0', '1', '1', '1', '0',\n",
              "       '0', '1', '0'], dtype=object)"
            ]
          },
          "metadata": {
            "tags": []
          },
          "execution_count": 212
        }
      ]
    },
    {
      "cell_type": "code",
      "metadata": {
        "id": "bwl2nWTRC_Wt",
        "outputId": "59c12d49-274d-44c2-d9ab-716928e46d3e",
        "colab": {
          "base_uri": "https://localhost:8080/"
        }
      },
      "source": [
        "y_test"
      ],
      "execution_count": null,
      "outputs": [
        {
          "output_type": "execute_result",
          "data": {
            "text/plain": [
              "626     0\n",
              "220     0\n",
              "678     1\n",
              "930     1\n",
              "174     1\n",
              "       ..\n",
              "326     1\n",
              "1035    0\n",
              "499     0\n",
              "888     1\n",
              "876     0\n",
              "Name: Result, Length: 586, dtype: object"
            ]
          },
          "metadata": {
            "tags": []
          },
          "execution_count": 213
        }
      ]
    },
    {
      "cell_type": "code",
      "metadata": {
        "id": "ijWZSms4DU13",
        "outputId": "db508269-e648-4f03-ef5a-c2583dd24f59",
        "colab": {
          "base_uri": "https://localhost:8080/",
          "height": 415
        }
      },
      "source": [
        "pd.DataFrame({\n",
        "    'pred': y_pred,\n",
        "    'resp': y_test\n",
        "})"
      ],
      "execution_count": null,
      "outputs": [
        {
          "output_type": "execute_result",
          "data": {
            "text/html": [
              "<div>\n",
              "<style scoped>\n",
              "    .dataframe tbody tr th:only-of-type {\n",
              "        vertical-align: middle;\n",
              "    }\n",
              "\n",
              "    .dataframe tbody tr th {\n",
              "        vertical-align: top;\n",
              "    }\n",
              "\n",
              "    .dataframe thead th {\n",
              "        text-align: right;\n",
              "    }\n",
              "</style>\n",
              "<table border=\"1\" class=\"dataframe\">\n",
              "  <thead>\n",
              "    <tr style=\"text-align: right;\">\n",
              "      <th></th>\n",
              "      <th>pred</th>\n",
              "      <th>resp</th>\n",
              "    </tr>\n",
              "  </thead>\n",
              "  <tbody>\n",
              "    <tr>\n",
              "      <th>626</th>\n",
              "      <td>0</td>\n",
              "      <td>0</td>\n",
              "    </tr>\n",
              "    <tr>\n",
              "      <th>220</th>\n",
              "      <td>0</td>\n",
              "      <td>0</td>\n",
              "    </tr>\n",
              "    <tr>\n",
              "      <th>678</th>\n",
              "      <td>1</td>\n",
              "      <td>1</td>\n",
              "    </tr>\n",
              "    <tr>\n",
              "      <th>930</th>\n",
              "      <td>1</td>\n",
              "      <td>1</td>\n",
              "    </tr>\n",
              "    <tr>\n",
              "      <th>174</th>\n",
              "      <td>1</td>\n",
              "      <td>1</td>\n",
              "    </tr>\n",
              "    <tr>\n",
              "      <th>...</th>\n",
              "      <td>...</td>\n",
              "      <td>...</td>\n",
              "    </tr>\n",
              "    <tr>\n",
              "      <th>326</th>\n",
              "      <td>1</td>\n",
              "      <td>1</td>\n",
              "    </tr>\n",
              "    <tr>\n",
              "      <th>1035</th>\n",
              "      <td>0</td>\n",
              "      <td>0</td>\n",
              "    </tr>\n",
              "    <tr>\n",
              "      <th>499</th>\n",
              "      <td>0</td>\n",
              "      <td>0</td>\n",
              "    </tr>\n",
              "    <tr>\n",
              "      <th>888</th>\n",
              "      <td>1</td>\n",
              "      <td>1</td>\n",
              "    </tr>\n",
              "    <tr>\n",
              "      <th>876</th>\n",
              "      <td>0</td>\n",
              "      <td>0</td>\n",
              "    </tr>\n",
              "  </tbody>\n",
              "</table>\n",
              "<p>586 rows × 2 columns</p>\n",
              "</div>"
            ],
            "text/plain": [
              "     pred resp\n",
              "626     0    0\n",
              "220     0    0\n",
              "678     1    1\n",
              "930     1    1\n",
              "174     1    1\n",
              "...   ...  ...\n",
              "326     1    1\n",
              "1035    0    0\n",
              "499     0    0\n",
              "888     1    1\n",
              "876     0    0\n",
              "\n",
              "[586 rows x 2 columns]"
            ]
          },
          "metadata": {
            "tags": []
          },
          "execution_count": 214
        }
      ]
    },
    {
      "cell_type": "code",
      "metadata": {
        "id": "bsN_JKtJDiGb",
        "outputId": "108b2e62-2d5d-4fdb-e365-56f128530828",
        "colab": {
          "base_uri": "https://localhost:8080/"
        }
      },
      "source": [
        "from sklearn.metrics import accuracy_score\n",
        "acc = accuracy_score(y_test, y_pred)\n",
        "acc"
      ],
      "execution_count": null,
      "outputs": [
        {
          "output_type": "execute_result",
          "data": {
            "text/plain": [
              "1.0"
            ]
          },
          "metadata": {
            "tags": []
          },
          "execution_count": 215
        }
      ]
    },
    {
      "cell_type": "code",
      "metadata": {
        "id": "LvO4OL20DoZC",
        "outputId": "022b4a67-6c45-4d13-c2f8-4904d4b5ea00",
        "colab": {
          "base_uri": "https://localhost:8080/"
        }
      },
      "source": [
        "y_test.value_counts()"
      ],
      "execution_count": null,
      "outputs": [
        {
          "output_type": "execute_result",
          "data": {
            "text/plain": [
              "1      295\n",
              "0      275\n",
              "0.5     16\n",
              "Name: Result, dtype: int64"
            ]
          },
          "metadata": {
            "tags": []
          },
          "execution_count": 216
        }
      ]
    },
    {
      "cell_type": "code",
      "metadata": {
        "id": "C3N9DJ68ETV2",
        "outputId": "b20202d8-2d19-4024-9d20-ab4574cc5e03",
        "colab": {
          "base_uri": "https://localhost:8080/",
          "height": 453
        }
      },
      "source": [
        "from sklearn.metrics import confusion_matrix, plot_confusion_matrix, classification_report\n",
        "confusion_matrix(y_test, y_pred)\n",
        "plot_confusion_matrix(model, x_test, y_test, cmap='Blues', values_format='.0f')\n",
        "print(classification_report(y_test, y_pred))"
      ],
      "execution_count": null,
      "outputs": [
        {
          "output_type": "stream",
          "text": [
            "              precision    recall  f1-score   support\n",
            "\n",
            "           0       1.00      1.00      1.00       275\n",
            "         0.5       1.00      1.00      1.00        16\n",
            "           1       1.00      1.00      1.00       295\n",
            "\n",
            "    accuracy                           1.00       586\n",
            "   macro avg       1.00      1.00      1.00       586\n",
            "weighted avg       1.00      1.00      1.00       586\n",
            "\n"
          ],
          "name": "stdout"
        },
        {
          "output_type": "display_data",
          "data": {
            "image/png": "[encoded data removed]",
            "text/plain": [
              "<Figure size 432x288 with 2 Axes>"
            ]
          },
          "metadata": {
            "tags": [],
            "needs_background": "light"
          }
        }
      ]
    }
  ]
}